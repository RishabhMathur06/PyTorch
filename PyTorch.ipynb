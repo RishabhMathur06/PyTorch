{
  "nbformat": 4,
  "nbformat_minor": 0,
  "metadata": {
    "colab": {
      "provenance": [],
      "collapsed_sections": [
        "DPpGQfsyjHu_",
        "hjrEyHpOi_YR",
        "wcHvjHJxbpOc",
        "SGO-Uex4im5a"
      ]
    },
    "kernelspec": {
      "name": "python3",
      "display_name": "Python 3"
    },
    "language_info": {
      "name": "python"
    }
  },
  "cells": [
    {
      "cell_type": "markdown",
      "source": [
        "# **Introduction**"
      ],
      "metadata": {
        "id": "DPpGQfsyjHu_"
      }
    },
    {
      "cell_type": "code",
      "execution_count": null,
      "metadata": {
        "colab": {
          "base_uri": "https://localhost:8080/"
        },
        "id": "hhQbnw1E3OsT",
        "outputId": "f9dc403c-be46-4209-d3c4-d22cc43b1b75"
      },
      "outputs": [
        {
          "output_type": "stream",
          "name": "stdout",
          "text": [
            "tensor([3.4456e-28])\n",
            "tensor([-7.0124e+35, -1.4080e+06, -4.2200e+27])\n"
          ]
        }
      ],
      "source": [
        "import torch\n",
        "\n",
        "# CReating 1D singl element tensor.\n",
        "x = torch.empty(1)\n",
        "# Creating 1D 3 element tensor.\n",
        "y = torch.empty(3)\n",
        "\n",
        "print(x)\n",
        "print(y)"
      ]
    },
    {
      "cell_type": "code",
      "source": [
        "# 2D tensor\n",
        "x = torch.empty(2, 3)\n",
        "print(x)"
      ],
      "metadata": {
        "colab": {
          "base_uri": "https://localhost:8080/"
        },
        "id": "SROMAViT5Nv0",
        "outputId": "0291f7e7-b89b-4d64-f92c-b391e637dc1e"
      },
      "execution_count": null,
      "outputs": [
        {
          "output_type": "stream",
          "name": "stdout",
          "text": [
            "tensor([[ 9.8484e-07,  3.2668e-41, -4.5220e+32],\n",
            "        [ 4.5482e-41,  8.9683e-44,  0.0000e+00]])\n"
          ]
        }
      ]
    },
    {
      "cell_type": "code",
      "source": [
        "# 1* 3D tensor with 3 rows and 3 columns.\n",
        "tensor_3d = torch.empty(1,3,3)\n",
        "print(tensor_3d)"
      ],
      "metadata": {
        "colab": {
          "base_uri": "https://localhost:8080/"
        },
        "id": "XImubjOQ732r",
        "outputId": "fcd27e24-271f-4fca-e782-0d7b46fdbf9a"
      },
      "execution_count": null,
      "outputs": [
        {
          "output_type": "stream",
          "name": "stdout",
          "text": [
            "tensor([[[9.8353e-07, 3.2668e-41, 9.8542e-07],\n",
            "         [3.2668e-41, 0.0000e+00, 2.3334e+04],\n",
            "         [0.0000e+00, 1.7130e-05, 0.0000e+00]]])\n"
          ]
        }
      ]
    },
    {
      "cell_type": "code",
      "source": [
        "# 2* 3D tensor with 3 rows and 3 columns.\n",
        "tensor_3d = torch.empty(2,3,3)\n",
        "print(tensor_3d)"
      ],
      "metadata": {
        "colab": {
          "base_uri": "https://localhost:8080/"
        },
        "id": "SRtoYs1_8HSU",
        "outputId": "40248940-4cd5-47c4-90aa-b582d429cb80"
      },
      "execution_count": null,
      "outputs": [
        {
          "output_type": "stream",
          "name": "stdout",
          "text": [
            "tensor([[[ 9.8593e-07,  3.2668e-41,  9.8496e-07],\n",
            "         [ 3.2668e-41,  4.4842e-44,  0.0000e+00],\n",
            "         [ 1.5695e-43,  0.0000e+00, -3.5583e-36]],\n",
            "\n",
            "        [[ 3.2673e-41,  9.8541e-07,  3.2668e-41],\n",
            "         [ 1.4013e-44,  0.0000e+00,  9.8539e-07],\n",
            "         [ 3.2668e-41,  1.5919e-42,  0.0000e+00]]])\n"
          ]
        }
      ]
    },
    {
      "cell_type": "code",
      "source": [
        "x = torch.rand(2, 2)\n",
        "print(x)"
      ],
      "metadata": {
        "id": "zFMrAGfN8XLq",
        "colab": {
          "base_uri": "https://localhost:8080/"
        },
        "outputId": "84f48297-ccc8-47e8-f326-737693d9b400"
      },
      "execution_count": null,
      "outputs": [
        {
          "output_type": "stream",
          "name": "stdout",
          "text": [
            "tensor([[0.6067, 0.9362],\n",
            "        [0.6523, 0.5174]])\n"
          ]
        }
      ]
    },
    {
      "cell_type": "code",
      "source": [
        "x = torch.rand(1, 4)\n",
        "print(x)"
      ],
      "metadata": {
        "colab": {
          "base_uri": "https://localhost:8080/"
        },
        "id": "7_1QTAvmI67u",
        "outputId": "dcb669d0-1a01-4385-cfc9-75d1ace5a865"
      },
      "execution_count": null,
      "outputs": [
        {
          "output_type": "stream",
          "name": "stdout",
          "text": [
            "tensor([[0.3078, 0.7399, 0.3103, 0.5403]])\n"
          ]
        }
      ]
    },
    {
      "cell_type": "code",
      "source": [
        "var = torch.ones(2, 2)\n",
        "print(var)"
      ],
      "metadata": {
        "colab": {
          "base_uri": "https://localhost:8080/"
        },
        "id": "BNDurkO0JLxD",
        "outputId": "d6e25ffb-d22d-4974-a1f0-bb120e45e575"
      },
      "execution_count": null,
      "outputs": [
        {
          "output_type": "stream",
          "name": "stdout",
          "text": [
            "tensor([[1., 1.],\n",
            "        [1., 1.]])\n"
          ]
        }
      ]
    },
    {
      "cell_type": "code",
      "source": [
        "var = torch.zeros(2, 4, dtype = torch.int)\n",
        "print(var)"
      ],
      "metadata": {
        "colab": {
          "base_uri": "https://localhost:8080/"
        },
        "id": "fl8veGaQJR-O",
        "outputId": "8049e4a6-2baa-4f78-b53a-520d5abc9dda"
      },
      "execution_count": null,
      "outputs": [
        {
          "output_type": "stream",
          "name": "stdout",
          "text": [
            "tensor([[0, 0, 0, 0],\n",
            "        [0, 0, 0, 0]], dtype=torch.int32)\n"
          ]
        }
      ]
    },
    {
      "cell_type": "code",
      "source": [
        "# Addition using third variable and function.\n",
        "x = torch.rand(2,2)\n",
        "y = torch.rand(2, 2)\n",
        "z = torch.add(x,y)\n",
        "print(\"The addition of x & y:\", z)\n",
        "\n",
        "# Inplace addition\n",
        "y.add_(x)\n",
        "print(\"The addition of x & y:\", y)"
      ],
      "metadata": {
        "colab": {
          "base_uri": "https://localhost:8080/"
        },
        "id": "gK5bwgUgJp5_",
        "outputId": "ba3fa15c-c164-4f53-b7bb-fd3a3d9f58b7"
      },
      "execution_count": null,
      "outputs": [
        {
          "output_type": "stream",
          "name": "stdout",
          "text": [
            "The addition of x & y: tensor([[1.2564, 0.9706],\n",
            "        [0.4036, 1.6390]])\n",
            "The addition of x & y: tensor([[1.2564, 0.9706],\n",
            "        [0.4036, 1.6390]])\n"
          ]
        }
      ]
    },
    {
      "cell_type": "code",
      "source": [
        "# Slicing operation\n",
        "x = torch.rand(5, 3)\n",
        "print(\"Whole x matrix:\\n\",x)\n",
        "print(\"All rows and only 1 column:\\n\", x[:, 0])"
      ],
      "metadata": {
        "colab": {
          "base_uri": "https://localhost:8080/"
        },
        "id": "3nSM11ItLK2J",
        "outputId": "db47c147-dd1a-4a39-b39a-b29807a44f28"
      },
      "execution_count": null,
      "outputs": [
        {
          "output_type": "stream",
          "name": "stdout",
          "text": [
            "Whole x matrix:\n",
            " tensor([[0.8444, 0.3249, 0.6216],\n",
            "        [0.2891, 0.5697, 0.7922],\n",
            "        [0.5393, 0.9506, 0.4208],\n",
            "        [0.0761, 0.7673, 0.9265],\n",
            "        [0.3456, 0.6413, 0.7467]])\n",
            "All rows and only 1 column:\n",
            " tensor([0.8444, 0.2891, 0.5393, 0.0761, 0.3456])\n"
          ]
        }
      ]
    },
    {
      "cell_type": "markdown",
      "source": [
        "# **Conversion:-**"
      ],
      "metadata": {
        "id": "hjrEyHpOi_YR"
      }
    },
    {
      "cell_type": "code",
      "source": [
        "# To convert  \"TENSOR\" to numpy \"ARRAY\".\n",
        "import torch\n",
        "import numpy as np\n",
        "\n",
        "a = torch.ones(5)\n",
        "print(a)\n",
        "print(type(a))\n",
        "\n",
        "b = a.numpy()\n",
        "print(b)\n",
        "print(type(b))"
      ],
      "metadata": {
        "id": "zMcAKBS4MXck",
        "colab": {
          "base_uri": "https://localhost:8080/"
        },
        "outputId": "44cda774-86c4-481e-e4de-6bbcb89685d7"
      },
      "execution_count": null,
      "outputs": [
        {
          "output_type": "stream",
          "name": "stdout",
          "text": [
            "tensor([1., 1., 1., 1., 1.])\n",
            "<class 'torch.Tensor'>\n",
            "[1. 1. 1. 1. 1.]\n",
            "<class 'numpy.ndarray'>\n"
          ]
        }
      ]
    },
    {
      "cell_type": "markdown",
      "source": [
        "# **Calculating Gradients.**"
      ],
      "metadata": {
        "id": "wcHvjHJxbpOc"
      }
    },
    {
      "cell_type": "code",
      "source": [
        "import torch\n",
        "\n",
        "x = torch.randn(3, requires_grad = True)\n",
        "y = x + 2\n",
        "print(\"Forward pass Addition: \",y)\n",
        "\n",
        "z = y*y*2\n",
        "z = z.mean()         # NOTE: \"z\" has a scalar value.\n",
        "print(\"Forward pass Multiplication: \",z)\n",
        "\n",
        "# To calculate the gradient\n",
        "z.backward()   # dz/dx\n",
        "print(x.grad)"
      ],
      "metadata": {
        "id": "pRO7nk2nwzpf",
        "colab": {
          "base_uri": "https://localhost:8080/"
        },
        "outputId": "427fc7d9-1d33-4698-cb7c-7e3c376baa42"
      },
      "execution_count": 1,
      "outputs": [
        {
          "output_type": "stream",
          "name": "stdout",
          "text": [
            "Forward pass Addition:  tensor([1.9115, 2.0761, 2.7711], grad_fn=<AddBackward0>)\n",
            "Forward pass Multiplication:  tensor(10.4288, grad_fn=<MeanBackward0>)\n",
            "tensor([2.5486, 2.7682, 3.6948])\n"
          ]
        }
      ]
    },
    {
      "cell_type": "code",
      "source": [
        "# When \"z\" does'nt has a scalar value.\n",
        "\n",
        "x = torch.randn(3, requires_grad = True)\n",
        "y = x+2\n",
        "\n",
        "z = y*y*2\n",
        "v = torch.tensor([0.1, 1.0, 0.001])\n",
        "z.backward(v)\n",
        "print(x.grad)"
      ],
      "metadata": {
        "colab": {
          "base_uri": "https://localhost:8080/"
        },
        "id": "0w1S1-o7amTK",
        "outputId": "86c37fb7-a6ea-4f2a-e005-45efd6d69edb"
      },
      "execution_count": null,
      "outputs": [
        {
          "output_type": "stream",
          "name": "stdout",
          "text": [
            "tensor([1.1444e+00, 9.1964e+00, 8.1262e-03])\n"
          ]
        }
      ]
    },
    {
      "cell_type": "markdown",
      "source": [
        "# **Forgetting the gradients.**\n",
        "There are three methods to forget the history or the \"gradients\":-\n",
        "\n",
        "\n",
        "1.   ***Detach*** Fuction\n",
        "2.   Setting \"***requires_grad_***\" to FALSE.\n",
        "3.   Wrapping with \"***WITH***\" statement.\n",
        "\n",
        "Here, we'll be discussing all the three methods."
      ],
      "metadata": {
        "id": "SGO-Uex4im5a"
      }
    },
    {
      "cell_type": "code",
      "source": [
        "x = torch.randn(3, requires_grad = True)"
      ],
      "metadata": {
        "id": "laRlBwy-iU9U"
      },
      "execution_count": null,
      "outputs": []
    },
    {
      "cell_type": "code",
      "source": [
        "# To forget history \"requires_grad_\"\n",
        "x.requires_grad_(False)\n",
        "print(x)"
      ],
      "metadata": {
        "id": "3xsKM5sOlLou",
        "outputId": "175361f8-78b5-4819-f143-91e9cf8d2753",
        "colab": {
          "base_uri": "https://localhost:8080/"
        }
      },
      "execution_count": null,
      "outputs": [
        {
          "output_type": "stream",
          "name": "stdout",
          "text": [
            "tensor([ 1.4410, -1.1102, -0.5112])\n"
          ]
        }
      ]
    },
    {
      "cell_type": "code",
      "source": [
        "y = x.detach()\n",
        "print(y)"
      ],
      "metadata": {
        "colab": {
          "base_uri": "https://localhost:8080/"
        },
        "id": "geJ2ixcRkMt5",
        "outputId": "0fa48c3d-3c05-404b-f832-7565141678ef"
      },
      "execution_count": null,
      "outputs": [
        {
          "output_type": "stream",
          "name": "stdout",
          "text": [
            "tensor([ 1.4410, -1.1102, -0.5112])\n"
          ]
        }
      ]
    },
    {
      "cell_type": "code",
      "source": [
        "with torch.no_grad():\n",
        "  y = x+2\n",
        "\n",
        "  print(y)"
      ],
      "metadata": {
        "colab": {
          "base_uri": "https://localhost:8080/"
        },
        "id": "q6DLF_xPkYiY",
        "outputId": "e6acec0f-d48a-4fb1-d3b4-162cb93a5592"
      },
      "execution_count": null,
      "outputs": [
        {
          "output_type": "stream",
          "name": "stdout",
          "text": [
            "tensor([3.4410, 0.8898, 1.4888])\n"
          ]
        }
      ]
    },
    {
      "cell_type": "code",
      "source": [
        "# Dummy model\n",
        "\n",
        "# Here, we create a weight tensor and print the gradient using backprop.\n",
        "# But, it prints wrong gradients.\n",
        "weights = torch.ones(4, requires_grad=True)\n",
        "\n",
        "for epoch in range(3):\n",
        "  model_output = (weights*3).sum()\n",
        "\n",
        "  # To calculate gradient.\n",
        "  model_output.backward()\n",
        "\n",
        "  print(weights.grad)\n",
        ""
      ],
      "metadata": {
        "id": "MhQEvVoDk6qo",
        "colab": {
          "base_uri": "https://localhost:8080/"
        },
        "outputId": "65153e29-4acb-483d-8bc1-b9866b76cec0"
      },
      "execution_count": 8,
      "outputs": [
        {
          "output_type": "stream",
          "name": "stdout",
          "text": [
            "tensor([3., 3., 3., 3.])\n",
            "tensor([6., 6., 6., 6.])\n",
            "tensor([9., 9., 9., 9.])\n"
          ]
        }
      ]
    },
    {
      "cell_type": "code",
      "source": [
        "# To resolve this issue, we need to reset the gradient to 0,\n",
        "# so that it does'nt accumulates around epoches\n",
        "\n",
        "weights = torch.ones(4, requires_grad=True)\n",
        "\n",
        "for epoch in range(3):\n",
        "  model_output = (weights*3).sum()\n",
        "\n",
        "  # To calculate gradient.\n",
        "  model_output.backward()\n",
        "\n",
        "  print(weights.grad)\n",
        "\n",
        "  weights.grad.zero_()"
      ],
      "metadata": {
        "colab": {
          "base_uri": "https://localhost:8080/"
        },
        "id": "7bvRrplRS2It",
        "outputId": "1f84309a-2998-4486-b32f-5774e07d6450"
      },
      "execution_count": 7,
      "outputs": [
        {
          "output_type": "stream",
          "name": "stdout",
          "text": [
            "tensor([3., 3., 3., 3.])\n",
            "tensor([3., 3., 3., 3.])\n",
            "tensor([3., 3., 3., 3.])\n"
          ]
        }
      ]
    },
    {
      "cell_type": "markdown",
      "source": [
        "# **Backpropagation**"
      ],
      "metadata": {
        "id": "Kl-_3Wx4i9gR"
      }
    },
    {
      "cell_type": "code",
      "source": [],
      "metadata": {
        "id": "lWbBU1XojCSX"
      },
      "execution_count": null,
      "outputs": []
    }
  ]
}